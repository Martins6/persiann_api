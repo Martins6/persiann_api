{
 "cells": [
  {
   "cell_type": "markdown",
   "metadata": {},
   "source": [
    "## EDA of the clean PERSIANN"
   ]
  },
  {
   "cell_type": "code",
   "execution_count": 1,
   "metadata": {},
   "outputs": [
    {
     "name": "stderr",
     "output_type": "stream",
     "text": [
      "/home/adriel-martins/.cache/pypoetry/virtualenvs/wm-tAk-yGEW-py3.8/lib/python3.8/site-packages/pysal/model/spvcm/abstracts.py:10: UserWarning: The `dill` module is required to use the sqlite backend fully.\n",
      "  from .sqlite import head_to_sql, start_sql\n"
     ]
    }
   ],
   "source": [
    "# data wrangling\n",
    "import pandas as pd\n",
    "import numpy as np\n",
    "\n",
    "# image processing\n",
    "from PIL import Image\n",
    "import matplotlib.pyplot as plt\n",
    "\n",
    "# geo data processing\n",
    "from osgeo import gdal\n",
    "from osgeo import osr\n",
    "\n",
    "import georasters as gr\n",
    "import geopandas as gpd\n",
    "\n",
    "# utils\n",
    "import glob\n",
    "import os\n",
    "from struct import unpack # binary data"
   ]
  },
  {
   "cell_type": "code",
   "execution_count": 2,
   "metadata": {},
   "outputs": [
    {
     "data": {
      "text/plain": [
       "<AxesSubplot:>"
      ]
     },
     "execution_count": 2,
     "metadata": {},
     "output_type": "execute_result"
    },
    {
     "data": {
      "image/png": "[encoded data removed]",
      "text/plain": [
       "<Figure size 432x288 with 1 Axes>"
      ]
     },
     "metadata": {
      "needs_background": "light"
     },
     "output_type": "display_data"
    }
   ],
   "source": [
    "gadm = gpd.read_file(\n",
    "    '../data/gadm/gadm36_BRA_1.shp'\n",
    ").dissolve(\n",
    "    by='NAME_0'\n",
    ").drop(\n",
    "    columns=[\n",
    "        'GID_0', 'GID_1', 'NAME_1',\n",
    "        'VARNAME_1', 'NL_NAME_1', 'TYPE_1',\n",
    "        'ENGTYPE_1', 'CC_1', 'HASC_1'\n",
    "    ]\n",
    ")\n",
    "gadm.plot()"
   ]
  },
  {
   "cell_type": "code",
   "execution_count": 3,
   "metadata": {},
   "outputs": [
    {
     "data": {
      "text/html": [
       "<div>\n",
       "<style scoped>\n",
       "    .dataframe tbody tr th:only-of-type {\n",
       "        vertical-align: middle;\n",
       "    }\n",
       "\n",
       "    .dataframe tbody tr th {\n",
       "        vertical-align: top;\n",
       "    }\n",
       "\n",
       "    .dataframe thead th {\n",
       "        text-align: right;\n",
       "    }\n",
       "</style>\n",
       "<table border=\"1\" class=\"dataframe\">\n",
       "  <thead>\n",
       "    <tr style=\"text-align: right;\">\n",
       "      <th></th>\n",
       "      <th>value</th>\n",
       "      <th>lon</th>\n",
       "      <th>lat</th>\n",
       "      <th>geometry</th>\n",
       "    </tr>\n",
       "  </thead>\n",
       "  <tbody>\n",
       "    <tr>\n",
       "      <th>0</th>\n",
       "      <td>2.67</td>\n",
       "      <td>-180.00</td>\n",
       "      <td>59.50</td>\n",
       "      <td>POLYGON ((-180.00000 59.50000, -179.75000 59.5...</td>\n",
       "    </tr>\n",
       "    <tr>\n",
       "      <th>1</th>\n",
       "      <td>2.86</td>\n",
       "      <td>-179.75</td>\n",
       "      <td>59.50</td>\n",
       "      <td>POLYGON ((-179.75000 59.50000, -179.50000 59.5...</td>\n",
       "    </tr>\n",
       "    <tr>\n",
       "      <th>2</th>\n",
       "      <td>1.51</td>\n",
       "      <td>-179.50</td>\n",
       "      <td>59.50</td>\n",
       "      <td>POLYGON ((-179.50000 59.50000, -179.25000 59.5...</td>\n",
       "    </tr>\n",
       "    <tr>\n",
       "      <th>3</th>\n",
       "      <td>1.12</td>\n",
       "      <td>-179.25</td>\n",
       "      <td>59.50</td>\n",
       "      <td>POLYGON ((-179.25000 59.50000, -179.00000 59.5...</td>\n",
       "    </tr>\n",
       "    <tr>\n",
       "      <th>4</th>\n",
       "      <td>0.64</td>\n",
       "      <td>-179.00</td>\n",
       "      <td>59.50</td>\n",
       "      <td>POLYGON ((-179.00000 59.50000, -178.75000 59.5...</td>\n",
       "    </tr>\n",
       "    <tr>\n",
       "      <th>...</th>\n",
       "      <td>...</td>\n",
       "      <td>...</td>\n",
       "      <td>...</td>\n",
       "      <td>...</td>\n",
       "    </tr>\n",
       "    <tr>\n",
       "      <th>685435</th>\n",
       "      <td>0.00</td>\n",
       "      <td>178.75</td>\n",
       "      <td>-59.25</td>\n",
       "      <td>POLYGON ((178.75000 -59.25000, 179.00000 -59.2...</td>\n",
       "    </tr>\n",
       "    <tr>\n",
       "      <th>685436</th>\n",
       "      <td>0.00</td>\n",
       "      <td>179.00</td>\n",
       "      <td>-59.25</td>\n",
       "      <td>POLYGON ((179.00000 -59.25000, 179.25000 -59.2...</td>\n",
       "    </tr>\n",
       "    <tr>\n",
       "      <th>685437</th>\n",
       "      <td>0.00</td>\n",
       "      <td>179.25</td>\n",
       "      <td>-59.25</td>\n",
       "      <td>POLYGON ((179.25000 -59.25000, 179.50000 -59.2...</td>\n",
       "    </tr>\n",
       "    <tr>\n",
       "      <th>685438</th>\n",
       "      <td>0.00</td>\n",
       "      <td>179.50</td>\n",
       "      <td>-59.25</td>\n",
       "      <td>POLYGON ((179.50000 -59.25000, 179.75000 -59.2...</td>\n",
       "    </tr>\n",
       "    <tr>\n",
       "      <th>685439</th>\n",
       "      <td>0.00</td>\n",
       "      <td>179.75</td>\n",
       "      <td>-59.25</td>\n",
       "      <td>POLYGON ((179.75000 -59.25000, 180.00000 -59.2...</td>\n",
       "    </tr>\n",
       "  </tbody>\n",
       "</table>\n",
       "<p>685440 rows × 4 columns</p>\n",
       "</div>"
      ],
      "text/plain": [
       "        value     lon    lat  \\\n",
       "0        2.67 -180.00  59.50   \n",
       "1        2.86 -179.75  59.50   \n",
       "2        1.51 -179.50  59.50   \n",
       "3        1.12 -179.25  59.50   \n",
       "4        0.64 -179.00  59.50   \n",
       "...       ...     ...    ...   \n",
       "685435   0.00  178.75 -59.25   \n",
       "685436   0.00  179.00 -59.25   \n",
       "685437   0.00  179.25 -59.25   \n",
       "685438   0.00  179.50 -59.25   \n",
       "685439   0.00  179.75 -59.25   \n",
       "\n",
       "                                                 geometry  \n",
       "0       POLYGON ((-180.00000 59.50000, -179.75000 59.5...  \n",
       "1       POLYGON ((-179.75000 59.50000, -179.50000 59.5...  \n",
       "2       POLYGON ((-179.50000 59.50000, -179.25000 59.5...  \n",
       "3       POLYGON ((-179.25000 59.50000, -179.00000 59.5...  \n",
       "4       POLYGON ((-179.00000 59.50000, -178.75000 59.5...  \n",
       "...                                                   ...  \n",
       "685435  POLYGON ((178.75000 -59.25000, 179.00000 -59.2...  \n",
       "685436  POLYGON ((179.00000 -59.25000, 179.25000 -59.2...  \n",
       "685437  POLYGON ((179.25000 -59.25000, 179.50000 -59.2...  \n",
       "685438  POLYGON ((179.50000 -59.25000, 179.75000 -59.2...  \n",
       "685439  POLYGON ((179.75000 -59.25000, 180.00000 -59.2...  \n",
       "\n",
       "[685440 rows x 4 columns]"
      ]
     },
     "execution_count": 3,
     "metadata": {},
     "output_type": "execute_result"
    }
   ],
   "source": [
    "data = gr.from_file('../data/PERSIANN_1d20211228.tif')\n",
    "geodata = data.to_geopandas().rename(\n",
    "    columns={\n",
    "        'x':'lon',\n",
    "        'y':'lat'\n",
    "    }\n",
    ").drop(\n",
    "    columns=['row', 'col']\n",
    ").set_crs(\n",
    "    gadm.crs,\n",
    "    inplace=True, allow_override=True\n",
    ")\n",
    "\n",
    "geodata"
   ]
  },
  {
   "cell_type": "code",
   "execution_count": 4,
   "metadata": {},
   "outputs": [
    {
     "data": {
      "text/html": [
       "<div>\n",
       "<style scoped>\n",
       "    .dataframe tbody tr th:only-of-type {\n",
       "        vertical-align: middle;\n",
       "    }\n",
       "\n",
       "    .dataframe tbody tr th {\n",
       "        vertical-align: top;\n",
       "    }\n",
       "\n",
       "    .dataframe thead th {\n",
       "        text-align: right;\n",
       "    }\n",
       "</style>\n",
       "<table border=\"1\" class=\"dataframe\">\n",
       "  <thead>\n",
       "    <tr style=\"text-align: right;\">\n",
       "      <th></th>\n",
       "      <th>value</th>\n",
       "      <th>lon</th>\n",
       "      <th>lat</th>\n",
       "      <th>geometry</th>\n",
       "    </tr>\n",
       "  </thead>\n",
       "  <tbody>\n",
       "    <tr>\n",
       "      <th>310073</th>\n",
       "      <td>1.18</td>\n",
       "      <td>-61.75</td>\n",
       "      <td>5.75</td>\n",
       "      <td>POLYGON ((-61.75000 5.75000, -61.50000 5.75000...</td>\n",
       "    </tr>\n",
       "    <tr>\n",
       "      <th>310074</th>\n",
       "      <td>0.80</td>\n",
       "      <td>-61.50</td>\n",
       "      <td>5.75</td>\n",
       "      <td>POLYGON ((-61.50000 5.75000, -61.25000 5.75000...</td>\n",
       "    </tr>\n",
       "    <tr>\n",
       "      <th>310076</th>\n",
       "      <td>1.59</td>\n",
       "      <td>-61.00</td>\n",
       "      <td>5.75</td>\n",
       "      <td>POLYGON ((-61.00000 5.75000, -60.75000 5.75000...</td>\n",
       "    </tr>\n",
       "    <tr>\n",
       "      <th>310077</th>\n",
       "      <td>0.75</td>\n",
       "      <td>-60.75</td>\n",
       "      <td>5.75</td>\n",
       "      <td>POLYGON ((-60.75000 5.75000, -60.50000 5.75000...</td>\n",
       "    </tr>\n",
       "    <tr>\n",
       "      <th>310078</th>\n",
       "      <td>0.57</td>\n",
       "      <td>-60.50</td>\n",
       "      <td>5.75</td>\n",
       "      <td>POLYGON ((-60.50000 5.75000, -60.25000 5.75000...</td>\n",
       "    </tr>\n",
       "    <tr>\n",
       "      <th>...</th>\n",
       "      <td>...</td>\n",
       "      <td>...</td>\n",
       "      <td>...</td>\n",
       "      <td>...</td>\n",
       "    </tr>\n",
       "    <tr>\n",
       "      <th>544891</th>\n",
       "      <td>2.74</td>\n",
       "      <td>-37.25</td>\n",
       "      <td>-35.00</td>\n",
       "      <td>POLYGON ((-37.25000 -35.00000, -37.00000 -35.0...</td>\n",
       "    </tr>\n",
       "    <tr>\n",
       "      <th>544892</th>\n",
       "      <td>5.16</td>\n",
       "      <td>-37.00</td>\n",
       "      <td>-35.00</td>\n",
       "      <td>POLYGON ((-37.00000 -35.00000, -36.75000 -35.0...</td>\n",
       "    </tr>\n",
       "    <tr>\n",
       "      <th>544893</th>\n",
       "      <td>7.46</td>\n",
       "      <td>-36.75</td>\n",
       "      <td>-35.00</td>\n",
       "      <td>POLYGON ((-36.75000 -35.00000, -36.50000 -35.0...</td>\n",
       "    </tr>\n",
       "    <tr>\n",
       "      <th>544894</th>\n",
       "      <td>3.97</td>\n",
       "      <td>-36.50</td>\n",
       "      <td>-35.00</td>\n",
       "      <td>POLYGON ((-36.50000 -35.00000, -36.25000 -35.0...</td>\n",
       "    </tr>\n",
       "    <tr>\n",
       "      <th>544895</th>\n",
       "      <td>4.20</td>\n",
       "      <td>-36.25</td>\n",
       "      <td>-35.00</td>\n",
       "      <td>POLYGON ((-36.25000 -35.00000, -36.00000 -35.0...</td>\n",
       "    </tr>\n",
       "  </tbody>\n",
       "</table>\n",
       "<p>10879 rows × 4 columns</p>\n",
       "</div>"
      ],
      "text/plain": [
       "        value    lon    lat                                           geometry\n",
       "310073   1.18 -61.75   5.75  POLYGON ((-61.75000 5.75000, -61.50000 5.75000...\n",
       "310074   0.80 -61.50   5.75  POLYGON ((-61.50000 5.75000, -61.25000 5.75000...\n",
       "310076   1.59 -61.00   5.75  POLYGON ((-61.00000 5.75000, -60.75000 5.75000...\n",
       "310077   0.75 -60.75   5.75  POLYGON ((-60.75000 5.75000, -60.50000 5.75000...\n",
       "310078   0.57 -60.50   5.75  POLYGON ((-60.50000 5.75000, -60.25000 5.75000...\n",
       "...       ...    ...    ...                                                ...\n",
       "544891   2.74 -37.25 -35.00  POLYGON ((-37.25000 -35.00000, -37.00000 -35.0...\n",
       "544892   5.16 -37.00 -35.00  POLYGON ((-37.00000 -35.00000, -36.75000 -35.0...\n",
       "544893   7.46 -36.75 -35.00  POLYGON ((-36.75000 -35.00000, -36.50000 -35.0...\n",
       "544894   3.97 -36.50 -35.00  POLYGON ((-36.50000 -35.00000, -36.25000 -35.0...\n",
       "544895   4.20 -36.25 -35.00  POLYGON ((-36.25000 -35.00000, -36.00000 -35.0...\n",
       "\n",
       "[10879 rows x 4 columns]"
      ]
     },
     "execution_count": 4,
     "metadata": {},
     "output_type": "execute_result"
    }
   ],
   "source": [
    "lon_array = np.arange(-69, -36, .25).tolist()\n",
    "lat_array = np.arange(-35, 6, .25).tolist()\n",
    "target_geodata = geodata.query(\n",
    "    'lon in @lon_array & lat in @lat_array & value > 0'\n",
    ")\n",
    "target_geodata"
   ]
  },
  {
   "cell_type": "code",
   "execution_count": 5,
   "metadata": {},
   "outputs": [
    {
     "data": {
      "text/plain": [
       "value    1.888713\n",
       "lon     -0.125000\n",
       "lat      0.125000\n",
       "dtype: float64"
      ]
     },
     "execution_count": 5,
     "metadata": {},
     "output_type": "execute_result"
    }
   ],
   "source": [
    "geodata.mean()"
   ]
  },
  {
   "cell_type": "code",
   "execution_count": 6,
   "metadata": {},
   "outputs": [
    {
     "data": {
      "text/plain": [
       "value     6.736198\n",
       "lon     -52.841897\n",
       "lat     -13.328063\n",
       "dtype: float64"
      ]
     },
     "execution_count": 6,
     "metadata": {},
     "output_type": "execute_result"
    }
   ],
   "source": [
    "target_geodata.mean()"
   ]
  },
  {
   "cell_type": "code",
   "execution_count": 8,
   "metadata": {},
   "outputs": [
    {
     "data": {
      "text/plain": [
       "<AxesSubplot:>"
      ]
     },
     "execution_count": 8,
     "metadata": {},
     "output_type": "execute_result"
    },
    {
     "data": {
      "text/plain": [
       "<Figure size 1152x2304 with 0 Axes>"
      ]
     },
     "metadata": {},
     "output_type": "display_data"
    },
    {
     "data": {
      "image/png": "[encoded data removed]",
      "text/plain": [
       "<Figure size 432x288 with 2 Axes>"
      ]
     },
     "metadata": {
      "needs_background": "light"
     },
     "output_type": "display_data"
    }
   ],
   "source": [
    "plt.figure(figsize=(16, 32))\n",
    "ax = gadm.plot(color='white', edgecolor='black')\n",
    "\n",
    "target_geodata.plot(ax=ax, column='value', legend=True, markersize=3)"
   ]
  },
  {
   "cell_type": "code",
   "execution_count": null,
   "metadata": {},
   "outputs": [],
   "source": []
  }
 ],
 "metadata": {
  "interpreter": {
   "hash": "7387564751283490caec179e6e33c1405ce6213a09a7d40dd928824c59103468"
  },
  "kernelspec": {
   "display_name": "Python 3.8.10 64-bit ('wm-tAk-yGEW-py3.8': poetry)",
   "language": "python",
   "name": "python3"
  },
  "language_info": {
   "codemirror_mode": {
    "name": "ipython",
    "version": 3
   },
   "file_extension": ".py",
   "mimetype": "text/x-python",
   "name": "python",
   "nbconvert_exporter": "python",
   "pygments_lexer": "ipython3",
   "version": "3.8.10"
  },
  "orig_nbformat": 4
 },
 "nbformat": 4,
 "nbformat_minor": 2
}
